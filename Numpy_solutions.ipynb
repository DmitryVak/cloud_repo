{
  "nbformat": 4,
  "nbformat_minor": 0,
  "metadata": {
    "colab": {
      "provenance": []
    },
    "kernelspec": {
      "name": "python3",
      "display_name": "Python 3"
    },
    "language_info": {
      "name": "python"
    }
  },
  "cells": [
    {
      "cell_type": "code",
      "execution_count": 2,
      "metadata": {
        "colab": {
          "base_uri": "https://localhost:8080/"
        },
        "id": "lGCScFFso_dP",
        "outputId": "63fccef6-f602-4060-a4c2-7e49a64497f2"
      },
      "outputs": [
        {
          "output_type": "stream",
          "name": "stdout",
          "text": [
            "hi\n"
          ]
        }
      ],
      "source": [
        "print('hi')"
      ]
    },
    {
      "cell_type": "code",
      "source": [
        "import numpy as np\n"
      ],
      "metadata": {
        "id": "On3kvzuFpKiJ"
      },
      "execution_count": 4,
      "outputs": []
    },
    {
      "cell_type": "markdown",
      "source": [
        "b.Создайте массив из 10 нулей"
      ],
      "metadata": {
        "id": "pJqiFJGepOaY"
      }
    },
    {
      "cell_type": "code",
      "source": [
        "array=np.zeros(10)\n",
        "print(array)"
      ],
      "metadata": {
        "colab": {
          "base_uri": "https://localhost:8080/"
        },
        "id": "ts8cY-PlpeGa",
        "outputId": "dfb4fb63-0c84-4299-977a-baa074ceae4c"
      },
      "execution_count": 5,
      "outputs": [
        {
          "output_type": "stream",
          "name": "stdout",
          "text": [
            "[0. 0. 0. 0. 0. 0. 0. 0. 0. 0.]\n"
          ]
        }
      ]
    },
    {
      "cell_type": "markdown",
      "source": [
        "c. Создать массив из 10 единиц"
      ],
      "metadata": {
        "id": "XHINCDeIqIZL"
      }
    },
    {
      "cell_type": "code",
      "source": [
        "array=np.ones(10)\n",
        "print(array)"
      ],
      "metadata": {
        "colab": {
          "base_uri": "https://localhost:8080/"
        },
        "id": "Q2i7LX0TqIBJ",
        "outputId": "9039ffc2-47b6-46ad-d037-8db77cff7bec"
      },
      "execution_count": 6,
      "outputs": [
        {
          "output_type": "stream",
          "name": "stdout",
          "text": [
            "[1. 1. 1. 1. 1. 1. 1. 1. 1. 1.]\n"
          ]
        }
      ]
    },
    {
      "cell_type": "markdown",
      "source": [
        "d. Создать массив из 10 пятерок"
      ],
      "metadata": {
        "id": "LaSrZDLjqexQ"
      }
    },
    {
      "cell_type": "code",
      "source": [
        "array=np.ones(10)*5\n",
        "print(array)"
      ],
      "metadata": {
        "colab": {
          "base_uri": "https://localhost:8080/"
        },
        "id": "Fq6KzT62qfGU",
        "outputId": "a831da51-ca66-4787-9738-1f802fe29cc6"
      },
      "execution_count": 7,
      "outputs": [
        {
          "output_type": "stream",
          "name": "stdout",
          "text": [
            "[5. 5. 5. 5. 5. 5. 5. 5. 5. 5.]\n"
          ]
        }
      ]
    },
    {
      "cell_type": "markdown",
      "source": [
        "e. Создать массив из целых чисел от 10 до 50"
      ],
      "metadata": {
        "id": "QgwkDcjat0KA"
      }
    },
    {
      "cell_type": "code",
      "source": [
        "array=np.arange(10,51)\n",
        "print(array)"
      ],
      "metadata": {
        "colab": {
          "base_uri": "https://localhost:8080/"
        },
        "id": "2vt8xEGEt7Mx",
        "outputId": "6187c265-8aeb-44c1-c677-c47068520ec5"
      },
      "execution_count": 8,
      "outputs": [
        {
          "output_type": "stream",
          "name": "stdout",
          "text": [
            "[10 11 12 13 14 15 16 17 18 19 20 21 22 23 24 25 26 27 28 29 30 31 32 33\n",
            " 34 35 36 37 38 39 40 41 42 43 44 45 46 47 48 49 50]\n"
          ]
        }
      ]
    },
    {
      "cell_type": "markdown",
      "source": [
        "f. Создать массив из четных чисел от 10 до 50"
      ],
      "metadata": {
        "id": "MWDoyqMluO9T"
      }
    },
    {
      "cell_type": "code",
      "source": [
        "array=np.arange(10,51,2)\n",
        "print(array)"
      ],
      "metadata": {
        "colab": {
          "base_uri": "https://localhost:8080/"
        },
        "id": "VnXB1aUEuWOM",
        "outputId": "0285f1d3-257d-4a9a-8e13-324978f4c8e7"
      },
      "execution_count": 9,
      "outputs": [
        {
          "output_type": "stream",
          "name": "stdout",
          "text": [
            "[10 12 14 16 18 20 22 24 26 28 30 32 34 36 38 40 42 44 46 48 50]\n"
          ]
        }
      ]
    },
    {
      "cell_type": "markdown",
      "source": [
        "g.Создать матрицу 3х3 с числами от 0 до 8"
      ],
      "metadata": {
        "id": "LMrmrzKDux6h"
      }
    },
    {
      "cell_type": "code",
      "source": [
        "a = np.arange(0,9).reshape(3,3)\n",
        "print(a)"
      ],
      "metadata": {
        "colab": {
          "base_uri": "https://localhost:8080/"
        },
        "id": "jH2kNENou25J",
        "outputId": "2dfb7f3c-25af-4e6d-f496-5ad04ef25e07"
      },
      "execution_count": 15,
      "outputs": [
        {
          "output_type": "stream",
          "name": "stdout",
          "text": [
            "[[0 1 2]\n",
            " [3 4 5]\n",
            " [6 7 8]]\n"
          ]
        }
      ]
    },
    {
      "cell_type": "markdown",
      "source": [
        "h.Создать единичную матрицу 3x3"
      ],
      "metadata": {
        "id": "RA2eXLzOwB7x"
      }
    },
    {
      "cell_type": "code",
      "source": [
        "array=np.eye(3)\n",
        "print(array)"
      ],
      "metadata": {
        "colab": {
          "base_uri": "https://localhost:8080/"
        },
        "id": "L7KDt0euwJpj",
        "outputId": "1ee4b814-97b2-487f-ffe7-9043c6c22711"
      },
      "execution_count": 20,
      "outputs": [
        {
          "output_type": "stream",
          "name": "stdout",
          "text": [
            "[[1. 0. 0.]\n",
            " [0. 1. 0.]\n",
            " [0. 0. 1.]]\n"
          ]
        }
      ]
    },
    {
      "cell_type": "markdown",
      "source": [
        "i.Используйте NumPy для генерации случайного числа от 0 до 1"
      ],
      "metadata": {
        "id": "ZBLJQ-7Uw4jS"
      }
    },
    {
      "cell_type": "code",
      "source": [
        "array=np.random.randint(0,1)\n",
        "print(array)"
      ],
      "metadata": {
        "colab": {
          "base_uri": "https://localhost:8080/"
        },
        "id": "H2SQvC7XxBKk",
        "outputId": "91e248bf-e19a-4e81-aec0-cd26337596d3"
      },
      "execution_count": 27,
      "outputs": [
        {
          "output_type": "stream",
          "name": "stdout",
          "text": [
            "0\n"
          ]
        }
      ]
    },
    {
      "cell_type": "markdown",
      "source": [
        "j.Используйте NumPy для генерации массива из 25 случайных чисел,взятых из стандартного нормального распределения"
      ],
      "metadata": {
        "id": "LLcskTu02WK4"
      }
    },
    {
      "cell_type": "code",
      "source": [
        "array=np.random.randn(25)\n",
        "print(array)"
      ],
      "metadata": {
        "colab": {
          "base_uri": "https://localhost:8080/"
        },
        "id": "dI3SWcuW2jC9",
        "outputId": "700f3e21-4a66-4462-c1b4-ea73dacfb5dc"
      },
      "execution_count": 28,
      "outputs": [
        {
          "output_type": "stream",
          "name": "stdout",
          "text": [
            "[ 0.85732101 -0.18860825 -0.48183767 -0.1383687   0.75585846  0.4288342\n",
            " -0.96013437  0.7055287  -0.69910942  0.55666312  1.60120797 -0.57465974\n",
            " -0.87927147  0.64832026 -0.79454438  0.34342572 -0.87555898 -1.2221882\n",
            " -2.16538389  0.19313778 -0.37003085  0.65352377 -0.1384783  -0.08060037\n",
            " -1.44954936]\n"
          ]
        }
      ]
    },
    {
      "cell_type": "markdown",
      "source": [
        "k.Создайте следующую матрицу используя функции библиотеки NumPy:"
      ],
      "metadata": {
        "id": "kp3z9gmz3Xdr"
      }
    },
    {
      "cell_type": "code",
      "source": [
        "array=np.linspace(0.01,1,100).reshape(10,10)\n",
        "print(array)"
      ],
      "metadata": {
        "colab": {
          "base_uri": "https://localhost:8080/"
        },
        "id": "cTOGr_iR3iTU",
        "outputId": "4ac8eab2-5e42-4d26-906a-317986299504"
      },
      "execution_count": 67,
      "outputs": [
        {
          "output_type": "stream",
          "name": "stdout",
          "text": [
            "[[0.01 0.02 0.03 0.04 0.05 0.06 0.07 0.08 0.09 0.1 ]\n",
            " [0.11 0.12 0.13 0.14 0.15 0.16 0.17 0.18 0.19 0.2 ]\n",
            " [0.21 0.22 0.23 0.24 0.25 0.26 0.27 0.28 0.29 0.3 ]\n",
            " [0.31 0.32 0.33 0.34 0.35 0.36 0.37 0.38 0.39 0.4 ]\n",
            " [0.41 0.42 0.43 0.44 0.45 0.46 0.47 0.48 0.49 0.5 ]\n",
            " [0.51 0.52 0.53 0.54 0.55 0.56 0.57 0.58 0.59 0.6 ]\n",
            " [0.61 0.62 0.63 0.64 0.65 0.66 0.67 0.68 0.69 0.7 ]\n",
            " [0.71 0.72 0.73 0.74 0.75 0.76 0.77 0.78 0.79 0.8 ]\n",
            " [0.81 0.82 0.83 0.84 0.85 0.86 0.87 0.88 0.89 0.9 ]\n",
            " [0.91 0.92 0.93 0.94 0.95 0.96 0.97 0.98 0.99 1.  ]]\n"
          ]
        }
      ]
    },
    {
      "cell_type": "markdown",
      "source": [
        "l.Дана стартовая матрица (обязательно запустите код ниже в вашемрешении!). Эта матрица будет использоваться в последующих задачах# это наша стартовая матрицаmat = np.arange(1,26).reshape(5,5)print(mat)\n"
      ],
      "metadata": {
        "id": "z-bStWXU9a74"
      }
    },
    {
      "cell_type": "code",
      "source": [
        "mat = np.arange(1,26).reshape(5,5)\n",
        "print(mat)"
      ],
      "metadata": {
        "colab": {
          "base_uri": "https://localhost:8080/"
        },
        "id": "70ulGhw59hAY",
        "outputId": "2197824b-b594-4820-861f-29dcf2fd5a6d"
      },
      "execution_count": 79,
      "outputs": [
        {
          "output_type": "stream",
          "name": "stdout",
          "text": [
            "[[ 1  2  3  4  5]\n",
            " [ 6  7  8  9 10]\n",
            " [11 12 13 14 15]\n",
            " [16 17 18 19 20]\n",
            " [21 22 23 24 25]]\n"
          ]
        }
      ]
    },
    {
      "cell_type": "markdown",
      "source": [
        "Необходимо написать код который вернет следующую матрицуиз стартовой:"
      ],
      "metadata": {
        "id": "SgtdHbrp-fAI"
      }
    },
    {
      "cell_type": "code",
      "source": [
        "print(mat[2:,1:])"
      ],
      "metadata": {
        "colab": {
          "base_uri": "https://localhost:8080/"
        },
        "id": "TPGOOZi3-icv",
        "outputId": "8666cfbd-9192-48e6-e404-24f4ec18e93e"
      },
      "execution_count": 85,
      "outputs": [
        {
          "output_type": "stream",
          "name": "stdout",
          "text": [
            "[[12 13 14 15]\n",
            " [17 18 19 20]\n",
            " [22 23 24 25]]\n"
          ]
        }
      ]
    },
    {
      "cell_type": "markdown",
      "source": [
        "m.Написать код обращения к элементу который вернет значение  20 изстартовой матрицы задачи l."
      ],
      "metadata": {
        "id": "dsRckhQaCkw4"
      }
    },
    {
      "cell_type": "code",
      "source": [
        "print(mat[3,4])"
      ],
      "metadata": {
        "colab": {
          "base_uri": "https://localhost:8080/"
        },
        "id": "dy5jf5ckCkm3",
        "outputId": "0847b8db-4e6c-4d8b-8462-c30bec3b8c37"
      },
      "execution_count": 93,
      "outputs": [
        {
          "output_type": "stream",
          "name": "stdout",
          "text": [
            "20\n"
          ]
        }
      ]
    },
    {
      "cell_type": "markdown",
      "source": [
        "n.Написать код к стартовой матрице задачи l , который воспроизводитвывод, показанный ниже"
      ],
      "metadata": {
        "id": "ny5PfgWdBYAl"
      }
    },
    {
      "cell_type": "code",
      "source": [
        "print(mat[0:3,1])"
      ],
      "metadata": {
        "colab": {
          "base_uri": "https://localhost:8080/"
        },
        "id": "XfLhEN7-BR_O",
        "outputId": "51c2cd72-09f7-4e35-b5ad-74709d90a510"
      },
      "execution_count": 99,
      "outputs": [
        {
          "output_type": "stream",
          "name": "stdout",
          "text": [
            "[ 2  7 12]\n"
          ]
        }
      ]
    },
    {
      "cell_type": "markdown",
      "source": [
        "o.Написать код к стартовой матрице задачи l , который воспроизводитвывод, показанный ниже"
      ],
      "metadata": {
        "id": "GpbBYmbGC4n4"
      }
    },
    {
      "cell_type": "code",
      "source": [
        "print(mat[4,:])"
      ],
      "metadata": {
        "colab": {
          "base_uri": "https://localhost:8080/"
        },
        "id": "6ROrKbMFDYLH",
        "outputId": "d26e964e-4c83-48e3-986f-689091f0757d"
      },
      "execution_count": 94,
      "outputs": [
        {
          "output_type": "stream",
          "name": "stdout",
          "text": [
            "[21 22 23 24 25]\n"
          ]
        }
      ]
    },
    {
      "cell_type": "markdown",
      "source": [
        "p.Написать код к стартовой матрице задачи l , который воспроизводитвывод, показанный ниже"
      ],
      "metadata": {
        "id": "uvrdZ9-oDw8Z"
      }
    },
    {
      "cell_type": "code",
      "source": [
        "print(mat[3:,:])"
      ],
      "metadata": {
        "colab": {
          "base_uri": "https://localhost:8080/"
        },
        "id": "M06W10cCD_3w",
        "outputId": "cba42086-cab5-43c9-c1ee-1c42a63fa47e"
      },
      "execution_count": 97,
      "outputs": [
        {
          "output_type": "stream",
          "name": "stdout",
          "text": [
            "[[16 17 18 19 20]\n",
            " [21 22 23 24 25]]\n"
          ]
        }
      ]
    },
    {
      "cell_type": "markdown",
      "source": [
        "q.Получить сумму всех значений в стартовой матрице mat"
      ],
      "metadata": {
        "id": "8uHOaWAKEL4Y"
      }
    },
    {
      "cell_type": "code",
      "source": [
        "print(mat.sum())"
      ],
      "metadata": {
        "colab": {
          "base_uri": "https://localhost:8080/"
        },
        "id": "hGS0v9a7ETmI",
        "outputId": "fdd4ae96-6faf-4b24-c8cc-e428b7cf900c"
      },
      "execution_count": 105,
      "outputs": [
        {
          "output_type": "stream",
          "name": "stdout",
          "text": [
            "325\n"
          ]
        }
      ]
    },
    {
      "cell_type": "markdown",
      "source": [
        "r. Получить стандартное отклонение в стартовой матрице mat"
      ],
      "metadata": {
        "id": "Ptmg3-CiF8JZ"
      }
    },
    {
      "cell_type": "code",
      "source": [
        "print(mat.std())"
      ],
      "metadata": {
        "colab": {
          "base_uri": "https://localhost:8080/"
        },
        "id": "FZmEMtMWGFD8",
        "outputId": "befb75de-d237-40de-a49a-baffcb891f79"
      },
      "execution_count": 104,
      "outputs": [
        {
          "output_type": "stream",
          "name": "stdout",
          "text": [
            "7.211102550927978\n"
          ]
        }
      ]
    },
    {
      "cell_type": "markdown",
      "source": [
        "s.Получить сумму значений в колонках в стартовой матрице mat"
      ],
      "metadata": {
        "id": "f8dvYoC9G3HT"
      }
    },
    {
      "cell_type": "code",
      "source": [
        "print(sum(mat))"
      ],
      "metadata": {
        "colab": {
          "base_uri": "https://localhost:8080/"
        },
        "id": "D1FD8BeXG92C",
        "outputId": "aa215707-71a1-44e9-ec29-271b197f9072"
      },
      "execution_count": 106,
      "outputs": [
        {
          "output_type": "stream",
          "name": "stdout",
          "text": [
            "[55 60 65 70 75]\n"
          ]
        }
      ]
    }
  ]
}